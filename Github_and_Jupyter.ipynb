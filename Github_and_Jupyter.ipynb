{
 "cells": [
  {
   "cell_type": "markdown",
   "metadata": {},
   "source": [
    "# Git, Github, and Jupyter notebooks\n"
   ]
  },
  {
   "cell_type": "markdown",
   "metadata": {},
   "source": [
    "#### Version control with Github\n",
    "http://swcarpentry.github.io/git-novice/01-basics/index.html\n",
    "\n",
    "![alt text][logo]\n",
    "\n",
    "[logo]: http://swcarpentry.github.io/git-novice/fig/phd101212s.png \"Logo Title Text 2\"\n",
    "\n",
    "Why?\n",
    "- because files go through many versions and we need a way to track changes and go back to previous versions\n",
    "- version control is like an unlimited 'undo'\n",
    "- version control allows many people to work in parallel\n",
    "\n",
    "Where?\n",
    "- Track Changes in Microsoft Word docs\n",
    "- version history in Google Docs\n",
    "- version history in Dropbox\n",
    "- version history in Github\n",
    "    - version control and better at handling conflicting changes\n",
    "\n",
    "How?\n",
    "- Version control systems start with a base version of the document and then record changes you make each step of the way.\n",
    "- Changes tracked are associated with files in a Github repository\n",
    "\n",
    "\n"
   ]
  },
  {
   "cell_type": "markdown",
   "metadata": {
    "collapsed": true
   },
   "source": [
    "#### Create a Github account\n",
    "If you already have a Github account and it's set up on your local computer, please help your neighbors!\n",
    "\n",
    "Make account\n",
    "- Go to https://github.com/\n",
    "\n",
    "Basic GitHub accounts are free. Create a GitHub account if you don't have one already. Please consider what personal information you'd like to reveal. For example, you may want to review these instructions for keeping your email address private provided at GitHub:\n",
    "https://help.github.com/articles/setting-your-commit-email-address-on-github/"
   ]
  },
  {
   "cell_type": "markdown",
   "metadata": {},
   "source": [
    "#### Set up on local computer\n",
    "\n",
    "When we use Git on a new computer for the first time, we need to configure a few things. Below are a few examples of configurations we will set as we get started with Git:\n",
    "\n",
    "  - our name and email address,\n",
    "  - what our preferred text editor is,\n",
    "  - and that we want to use these settings globally (i.e. for every project).\n",
    "\n",
    "Git command format: ```git verb options```"
   ]
  },
  {
   "cell_type": "markdown",
   "metadata": {},
   "source": [
    "#### Configure git\n",
    "\n",
    "Check configurations: ```git config --list```\n",
    "\n",
    "There are many configuration settings you can customize to your preferences. Here are some examples:\n",
    "\n",
    "This user name and email will be associated with your subsequent Git activity. \n",
    "```\n",
    "git config --global user.name 'Vlad Dracula'\n",
    "git config --global user.email 'vlad@tran.sylvan.ia'\n",
    "\n",
    "```\n",
    "It is possible to reconfigure the text editor for Git whenever you want to change it.\n",
    "```\n",
    "git config --global core.editor \"nano -w\"\n",
    "```\n",
    "More configuration examples with editors: http://swcarpentry.github.io/git-novice/02-setup/index.html"
   ]
  },
  {
   "cell_type": "markdown",
   "metadata": {},
   "source": [
    "#### Interaction between Github cloud and your local computer\n",
    "\n",
    "Files can be stored in a project’s working directory (which users see), the staging area (where the next commit is being built up) and the local repository (where commits are permanently recorded).\n",
    "\n",
    "![alt text][logo]\n",
    "\n",
    "[logo]: https://cdn-images-1.medium.com/max/1500/1*exCFWgo1cXpgCBmrwFRUUg.png \"Logo Title Text 2\"\n",
    "\n",
    "Helpful links with nice graphics showing the process:\n",
    "- https://medium.com/@abhishekj/an-intro-to-git-and-github-1a0e2c7e3a2f\n",
    "- http://swcarpentry.github.io/git-novice/04-changes/index.html\n",
    "\n"
   ]
  },
  {
   "cell_type": "markdown",
   "metadata": {},
   "source": [
    "#### Some useful Git commands\n",
    "\n",
    "Getting help\n",
    "- general help: ```git --help```\n",
    "- help with particular git command: ```git config --help``` or ```git config -h```\n",
    "\n",
    "Clone a repository from Github cloud to local computer:\n",
    "- ```git clone```\n",
    "\n",
    "Check status of repository:\n",
    "- ```git status```\n",
    "- this command will tell you if there are \n",
    "    - files to add/commit/push\n",
    "    - or you're all up-to-date and nothing to commit\n",
    "\n",
    "Check differences between current and previous version\n",
    "- ```git diff```\n",
    "\n",
    "Pushing changes to Github cloud from local computer:\n",
    "- ```git status```\n",
    "- ```git add <file name>```\n",
    "- ```git commit -m '<description of changes>'```\n",
    "- ```git push origin master```\n",
    "\n",
    "Pulling changes from Github cloud to local computer:\n",
    "- ```git pull```\n",
    "\n",
    "Ok, now let's use these to create a new repository to store our Jupyter notebooks."
   ]
  },
  {
   "cell_type": "markdown",
   "metadata": {},
   "source": [
    "#### Create a new repository\n",
    "\n",
    "\n",
    "\n",
    "1. Open Github \n",
    "1. Click + sign in top right corner next to your user icon to create a 'New repository'\n",
    "1. Name your repository (e.g., jupyterWorkflow_9Oct18)\n",
    "1. Give it a description (e.g., jupyter Workflow Example)\n",
    "1. You can choose to make this repository open to the public or private\n",
    "1. Check the box for initializing repository with a README file\n",
    "1. Under 'Add .gitignore', select 'Python'. This will ignore temporary files associated with Python\n",
    "1. Under 'Add a license', select MIT License.\n",
    "    1. More information about licenses: http://swcarpentry.github.io/git-novice/11-licensing/index.html\n",
    "1. Click 'Creating repository'\n",
    "\n",
    "This gives us a cloud-based back-up where we can save and recover what we're working on."
   ]
  },
  {
   "cell_type": "markdown",
   "metadata": {},
   "source": [
    "The repository has a unique web address that you can access by clicking the green 'Clone or download' button, e.g.,\n",
    "https://github.com/marisalim/stonybrook_juypterworkflow.git\n",
    "\n",
    "Now, we will clone this repository so that it exists on the cloud and on our local computer. \n",
    "1. Open terminal (on Windows machines, open Git bash)\n",
    "1. Navigate to the directory you set up for Github\n",
    "1. Enter 'git clone' and then copy/paste your repository URL like this:\n",
    "    ```\n",
    "    git clone <your repository URL>\n",
    "    \n",
    "    #git clone https://github.com/marisalim/stonybrook_juypterworkflow.git\n",
    "    ```\n",
    "    Enter your Github password to complete the clone!\n",
    "1. Create notebook in repository or move the jupyter notebook you've been working with to this repository\n",
    "    ```\n",
    "    mv <your path>/<your notebook name>.ipynb <name of repository>\n",
    "    \n",
    "    #mv ../../Dropbox/SCPythonOct8-9/Bike_count_dataset.ipynb ./stonybrook_juypterworkflow/\n",
    "    ```\n",
    "1. cd into the repository\n",
    "    ```\n",
    "    cd ./stonybrook_jupyterworkflow/\n",
    "    git status\n",
    "    ```\n",
    "    We have 1 untracked file, which is our jupyter notebook. This file exists on our local computer, but not on the cloud...yet! \n",
    "    \n",
    "1. We need to use a series of commands to put this notebook on the cloud too:\n",
    "    ```\n",
    "    # add file to staging area\n",
    "    git add Bike_count_dataset.ipynb\n",
    "    \n",
    "    # commit addition and include description\n",
    "        # descriptions are very useful for telling future you what this file is, if you made any changes to it, etc. \n",
    "        # these commit messages add to the power of version control\n",
    "        # you can go back to previous versions of your files. These descriptions can help tell you which version you want to look at\n",
    "     git commit -m \"Add initial analysis notebook\"\n",
    "    \n",
    "    # lastly, we push this addition to the cloud\n",
    "    git push origin master\n",
    "    # enter Github password to complete!\n",
    "    \n",
    "    git status\n",
    "    # this should show that there is nothing to commit now\n",
    "    ```"
   ]
  },
  {
   "cell_type": "markdown",
   "metadata": {},
   "source": [
    "Ok! There should now be a copy of the notebook on your local computer AND on the cloud. Refresh the repository webpage to check!\n",
    "\n",
    "Open your notebook. Github will render the notebook so it looks nice. Now we have a cloud-based version of this notebook on Github. Locally, we have the git repository where we can track changes and make changes to push to the cloud.\n",
    "\n",
    "- If you make changes to files locally, you can *push* those changes to the version on the cloud.\n",
    "- If you make changes to files on the cloud version, you can *pull* those changes down to your local version."
   ]
  },
  {
   "cell_type": "markdown",
   "metadata": {},
   "source": [
    "#### Revert to previous version\n",
    "\n",
    "Information here:\n",
    "- set up git history configuration\n",
    "\n",
    "```git config --global alias.hist \"log --pretty=format:'%h %ad | %s%d [%an]' --graph --date=short\"```\n",
    "\n",
    "https://githowto.com/getting_old_versions\n"
   ]
  },
  {
   "cell_type": "markdown",
   "metadata": {},
   "source": [
    "#### Working with bike data and Github\n",
    "\n",
    "1. Rerun your local computer version of the notebook (Kernal > Restart & Run All)\n",
    "1. The Fremont.csv dataset is now in our local repository\n",
    "1. Data files can be a bit tricky with Github. The data files can be too big to store on Github. Github has a limit on repository size. **The bike data is relatively small so it whould probably be ok.** \n",
    "\n",
    "However, it is possible to tell git to ignore datafiles.\n"
   ]
  },
  {
   "cell_type": "markdown",
   "metadata": {
    "collapsed": true
   },
   "source": [
    "```\n",
    "# Add data set to .gitignore file\n",
    "ls -a # shows the hidden file, .gitignore\n",
    "    \n",
    "# Open .gitignore with text editor\n",
    "nano .gitignore\n",
    "    # scroll to bottom of file and add\n",
    "        \n",
    "    # data\n",
    "    Fremont.csv   \n",
    "    \n",
    "# push changes to version on cloud\n",
    "git add .gitignore\n",
    "git commit -m 'add data to gitignore'\n",
    "git push origin master\n",
    "```\n",
    "This tells ```git status``` to ignore the data file called Fremont.csv. "
   ]
  },
  {
   "cell_type": "markdown",
   "metadata": {},
   "source": [
    "Now that we know how to use Git and Github, we're going to edit our bike data analysis script and then push changes to our repository."
   ]
  }
 ],
 "metadata": {
  "kernelspec": {
   "display_name": "Python 3",
   "language": "python",
   "name": "python3"
  },
  "language_info": {
   "codemirror_mode": {
    "name": "ipython",
    "version": 3
   },
   "file_extension": ".py",
   "mimetype": "text/x-python",
   "name": "python",
   "nbconvert_exporter": "python",
   "pygments_lexer": "ipython3",
   "version": "3.6.3"
  }
 },
 "nbformat": 4,
 "nbformat_minor": 2
}
